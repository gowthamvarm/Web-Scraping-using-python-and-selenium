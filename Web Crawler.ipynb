{
 "cells": [
  {
   "cell_type": "markdown",
   "id": "86f7fb00",
   "metadata": {},
   "source": [
    "# Instructions on execution\n",
    "Step 1 — Install and Imports\n",
    "Install packages\n",
    "Access WebDriver"
   ]
  },
  {
   "cell_type": "markdown",
   "id": "e2276cda",
   "metadata": {},
   "source": [
    "#Chrome WebDriver\n",
    "The Selenium API (described above) requires the WebDriver protocol to control a web browser, like Chrome, Firefox, or Safari. WebDriver provides a platform and language-neutral wire protocol as a way for out-of-process programs to instruct the behavior of web browsers remotely. \n",
    "I utilized the Chrome WebDriver since Chrome is one of the most popular browsers around. link to download\n",
    "https://chromedriver.chromium.org/downloads\n",
    "\n",
    "Chrome environamt \n",
    "Supports Chrome version 99\n",
    "ChromeDriver 99.0.4844.51"
   ]
  },
  {
   "cell_type": "code",
   "execution_count": 24,
   "id": "7e99c0d2",
   "metadata": {},
   "outputs": [],
   "source": [
    "#pip install requests\n",
    "#pip install beautifulsoup4\n",
    "#pip install selenium\n",
    "#pip install pandas\n"
   ]
  },
  {
   "cell_type": "code",
   "execution_count": 1,
   "id": "48833213",
   "metadata": {},
   "outputs": [],
   "source": [
    "from selenium import webdriver\n",
    "from selenium.webdriver.common.keys import Keys\n",
    "#pandas\n",
    "import pandas as pd\n",
    "import time\n",
    "\n",
    "import requests\n",
    "\n",
    "#BeautifulSoup\n",
    "\n",
    "from bs4 import BeautifulSoup\n",
    "import requests"
   ]
  },
  {
   "cell_type": "code",
   "execution_count": 2,
   "id": "dea59939",
   "metadata": {},
   "outputs": [],
   "source": [
    "from selenium import webdriver \n",
    "from selenium.webdriver.common.by import By \n",
    "from selenium.webdriver.support.ui import WebDriverWait \n",
    "from selenium.webdriver.support import expected_conditions as EC \n",
    "from selenium.common.exceptions import TimeoutException"
   ]
  },
  {
   "cell_type": "markdown",
   "id": "ae4c4349",
   "metadata": {},
   "source": [
    "# Access Website Via Python\n",
    "## url - web url"
   ]
  },
  {
   "cell_type": "code",
   "execution_count": 3,
   "id": "036624ae",
   "metadata": {},
   "outputs": [
    {
     "name": "stderr",
     "output_type": "stream",
     "text": [
      "<ipython-input-3-6fb9e4547f85>:1: DeprecationWarning: executable_path has been deprecated, please pass in a Service object\n",
      "  driver = webdriver.Chrome('C:/Users/gowth/Downloads/company project/se/chromedriver_win32/chromedriver.exe')\n"
     ]
    }
   ],
   "source": [
    "driver = webdriver.Chrome('C:/Users/gowth/Downloads/company project/se/chromedriver_win32/chromedriver.exe')\n",
    "url = 'https://siccode.com/search-business/sic:3612'\n",
    "driver.get(url)"
   ]
  },
  {
   "cell_type": "markdown",
   "id": "483efa79",
   "metadata": {},
   "source": [
    "# Information  Scraping\n",
    "## Extracting full xpath for each company title and  href "
   ]
  },
  {
   "cell_type": "code",
   "execution_count": 4,
   "id": "9d6dce28",
   "metadata": {},
   "outputs": [
    {
     "name": "stderr",
     "output_type": "stream",
     "text": [
      "<ipython-input-4-dd199e04753f>:10: DeprecationWarning: find_element_by_* commands are deprecated. Please use find_element() instead\n",
      "  link=driver.find_element_by_xpath(li).get_attribute('href')\n"
     ]
    },
    {
     "name": "stdout",
     "output_type": "stream",
     "text": [
      "['https://siccode.com/business/holien-inc', 'https://siccode.com/business/schaffner-mtc-transformers', 'https://siccode.com/business/fairfield-manufacturing-co-inc', 'https://siccode.com/business/ge-grid-solutions-llc', 'https://siccode.com/business/abb-31', 'https://siccode.com/business/ermco', 'https://siccode.com/business/weasler-engineering-inc', 'https://siccode.com/business/pennsylvania-transformer-technology-inc', 'https://siccode.com/business/siemens-power-transmission-and-distribution', 'https://siccode.com/business/siemens-80', 'https://siccode.com/business/foote-jones', 'https://siccode.com/business/sure-power-industries-inc', 'https://siccode.com/business/fujitsu-america', 'https://siccode.com/business/azz-galvanizing', 'https://siccode.com/business/raven-power-operating-llc', 'https://siccode.com/business/abb-equity-ventures', 'https://siccode.com/business/power-quality-international', 'https://siccode.com/business/seldat', 'https://siccode.com/business/jayvee-distributors', 'https://siccode.com/business/davis-mead-fulfillment-services', 'https://siccode.com/business/schneider-electric-usa-inc-2', 'https://siccode.com/business/aa-best-bread', 'https://siccode.com/business/qandl-sample-inc', 'https://siccode.com/business/money-or-honey', 'https://siccode.com/business/sharp-point-services-inc', 'https://siccode.com/business/jersey-central-power-and-light-co-1', 'https://siccode.com/business/champs-technologies-llc', 'https://siccode.com/business/explorer-capital', 'https://siccode.com/business/george-gruenthal', 'https://siccode.com/business/coil-q-corpp', 'https://siccode.com/business/bjm-distrubution', 'https://siccode.com/business/nilsson-electrical-laboratory-inc', 'https://siccode.com/business/dml-distributers', 'https://siccode.com/business/ram-transformer-technologies-corp', 'https://siccode.com/business/data-device-corp-1', 'https://siccode.com/business/damaris-corp', 'https://siccode.com/business/bel-transformer-inc', 'https://siccode.com/business/torres-nellie', 'https://siccode.com/business/q-tran-inc', 'https://siccode.com/business/cinram-group-inc', 'https://siccode.com/business/universal-power-systems', 'https://siccode.com/business/tandre-technologies-llc', 'https://siccode.com/business/little-bruce-international-inc', 'https://siccode.com/business/power-distribution-inc', 'https://siccode.com/business/power-and-control-systems-inc', 'https://siccode.com/business/voxx-international', 'https://siccode.com/business/corporate-distributions', 'https://siccode.com/business/power-generation-enterprises-llc', 'https://siccode.com/business/beyond-limits', 'https://siccode.com/business/american-zettler-inc-2', 'https://siccode.com/business/tommo', 'https://siccode.com/business/hughes-autoformers', 'https://siccode.com/business/distribution-international-19', 'https://siccode.com/business/murphy-distributors', 'https://siccode.com/business/icecap-inc', 'https://siccode.com/business/helix-power', 'https://siccode.com/business/continental-control-systems-llc', 'https://siccode.com/business/on-power-systems-inc', 'https://siccode.com/business/huntingdon-leasing-corp', 'https://siccode.com/business/valley-fabrication-inc', 'https://siccode.com/business/specialty-products-division-ceram-co-inc', 'https://siccode.com/business/ti-chen-assoc', 'https://siccode.com/business/neil-power', 'https://siccode.com/business/strategic-global-sourcing-inc', 'https://siccode.com/business/square-d-co', 'https://siccode.com/business/altran-corp', 'https://siccode.com/business/ds-cypress-magnetics', 'https://siccode.com/business/power-transmission-systems', 'https://siccode.com/business/amazonenemy-inc', 'https://siccode.com/business/miami-transformers', 'https://siccode.com/business/tropic-llc', 'https://siccode.com/business/prime-distribution-usa-corp', 'https://siccode.com/business/piusi', 'https://siccode.com/business/torpey-denver-inc', 'https://siccode.com/business/nsd-inc', 'https://siccode.com/business/epco-products-inc', 'https://siccode.com/business/ftw-main-distribution-at', 'https://siccode.com/business/bluestone-distributors-inc', 'https://siccode.com/business/gwf-power-systems', 'https://siccode.com/business/shearer', 'https://siccode.com/business/amsons-distributors-inc', 'https://siccode.com/business/national-air-vibrator-co', 'https://siccode.com/business/houtech-hitemp-transfor', 'https://siccode.com/business/sunbelt-transformer-ltd', 'https://siccode.com/business/philadelphia-gear-corp', 'https://siccode.com/business/walden-gage', 'https://siccode.com/business/real-power-inc', 'https://siccode.com/business/hunterdon-transformer-co', 'https://siccode.com/business/technology-research-corp', 'https://siccode.com/business/sri-systems', 'https://siccode.com/business/astrodyne-corp', 'https://siccode.com/business/future-power-inc', 'https://siccode.com/business/directory-distributing', 'https://siccode.com/business/sanford-process-corp', 'https://siccode.com/business/abb-37', 'https://siccode.com/business/shape-llc', 'https://siccode.com/business/magna-wealth-solutions-llc', 'https://siccode.com/business/avancez-llc', 'https://siccode.com/business/mpt-drives', 'https://siccode.com/business/aprotech-inc']\n"
     ]
    }
   ],
   "source": [
    "li_list=[]\n",
    "div_part1='/html/body/div[1]/section/div/div/div['\n",
    "div_part2=']/ul/li[1]/a'\n",
    "for i in range(1,21,2):\n",
    "    div=div_part1+str(i)+div_part2\n",
    "    li_part1=div[:-4]\n",
    "    li_part2=div[-3:]\n",
    "    for j in range(1,11):\n",
    "        li=li_part1+str(j)+li_part2 \n",
    "        link=driver.find_element_by_xpath(li).get_attribute('href')\n",
    "        li_list.append(link)\n",
    "        \n",
    "print(li_list)             \n",
    "     \n",
    "\n",
    "\n",
    "\n"
   ]
  },
  {
   "cell_type": "markdown",
   "id": "22850b89",
   "metadata": {},
   "source": [
    "Crating list for each variable"
   ]
  },
  {
   "cell_type": "code",
   "execution_count": 5,
   "id": "3a2ec198",
   "metadata": {},
   "outputs": [],
   "source": [
    "BName=[]\n",
    "cat=[]\n",
    "scode=[]\n",
    "sicdes=[]\n",
    "ncode = [] \n",
    "naicsdes = []\n",
    "city_list = []\n",
    "state_list =[]\n",
    "zipcode_list = []\n",
    "rev =[]\n",
    "CompSize=[]\n",
    "\n",
    "\n",
    "\n"
   ]
  },
  {
   "cell_type": "code",
   "execution_count": 26,
   "id": "8e26f6ae",
   "metadata": {},
   "outputs": [],
   "source": [
    "#Scraping required variabels  "
   ]
  },
  {
   "cell_type": "code",
   "execution_count": 6,
   "id": "f1cdcec8",
   "metadata": {},
   "outputs": [
    {
     "name": "stderr",
     "output_type": "stream",
     "text": [
      "<ipython-input-6-467ad416b4be>:5: DeprecationWarning: find_element_by_* commands are deprecated. Please use find_element() instead\n",
      "  BusinessName =  driver.find_element_by_xpath(\"/html/body/div[1]/div/section[1]/div/div/h1\").text\n",
      "<ipython-input-6-467ad416b4be>:8: DeprecationWarning: find_element_by_* commands are deprecated. Please use find_element() instead\n",
      "  category = driver.find_element_by_xpath(\"/html/body/div[1]/div/section[1]/div/div/p/span[1]\").text\n",
      "<ipython-input-6-467ad416b4be>:11: DeprecationWarning: find_element_by_* commands are deprecated. Please use find_element() instead\n",
      "  siccode = driver.find_element_by_xpath(\"/html/body/div[1]/div/section[2]/div/div/div[2]/div[2]/div/div/a[1]/span\").text\n",
      "<ipython-input-6-467ad416b4be>:14: DeprecationWarning: find_element_by_* commands are deprecated. Please use find_element() instead\n",
      "  sicdescription = driver.find_element_by_xpath(\"/html/body/div[1]/div/section[2]/div/div/div[2]/div[2]/div/div/a[1]\").text\n",
      "<ipython-input-6-467ad416b4be>:17: DeprecationWarning: find_element_by_* commands are deprecated. Please use find_element() instead\n",
      "  naicscode = driver.find_element_by_xpath(\"/html/body/div[1]/div/section[2]/div/div/div[2]/div[2]/div/div/a[2]/span\").text\n",
      "<ipython-input-6-467ad416b4be>:21: DeprecationWarning: find_element_by_* commands are deprecated. Please use find_element() instead\n",
      "  naicsdescription = driver.find_element_by_xpath(\"/html/body/div[1]/div/section[2]/div/div/div[2]/div[2]/div/div/a[2]\").text\n",
      "<ipython-input-6-467ad416b4be>:24: DeprecationWarning: find_element_by_* commands are deprecated. Please use find_element() instead\n",
      "  city = driver.find_element_by_xpath(\"/html/body/div[1]/div/section[2]/div/div/div[3]/div[2]/div[1]/span[2]\").text\n",
      "<ipython-input-6-467ad416b4be>:27: DeprecationWarning: find_element_by_* commands are deprecated. Please use find_element() instead\n",
      "  state = driver.find_element_by_xpath(\"/html/body/div[1]/div/section[2]/div/div/div[3]/div[2]/div[3]/span[2]\").text\n",
      "<ipython-input-6-467ad416b4be>:30: DeprecationWarning: find_element_by_* commands are deprecated. Please use find_element() instead\n",
      "  zipcode = driver.find_element_by_xpath(\"/html/body/div[1]/div/section[2]/div/div/div[3]/div[2]/div[5]/span[2]\").text\n",
      "<ipython-input-6-467ad416b4be>:33: DeprecationWarning: find_element_by_* commands are deprecated. Please use find_element() instead\n",
      "  revenue = driver.find_element_by_xpath(\"/html/body/div[1]/div/section[2]/div/div/div[3]/div[3]/div[1]/span[2]\").text\n",
      "<ipython-input-6-467ad416b4be>:36: DeprecationWarning: find_element_by_* commands are deprecated. Please use find_element() instead\n",
      "  CompanySize = driver.find_element_by_xpath(\"/html/body/div[1]/div/section[2]/div/div/div[3]/div[3]/div[3]/span[2]\").text\n"
     ]
    }
   ],
   "source": [
    "sleeptime=2\n",
    "for l in li_list:\n",
    "    try:\n",
    "        driver.get(l)\n",
    "        BusinessName =  driver.find_element_by_xpath(\"/html/body/div[1]/div/section[1]/div/div/h1\").text\n",
    "        BName.append(BusinessName)\n",
    "\n",
    "        category = driver.find_element_by_xpath(\"/html/body/div[1]/div/section[1]/div/div/p/span[1]\").text\n",
    "        cat.append(category)\n",
    "\n",
    "        siccode = driver.find_element_by_xpath(\"/html/body/div[1]/div/section[2]/div/div/div[2]/div[2]/div/div/a[1]/span\").text\n",
    "        scode.append(siccode)\n",
    "\n",
    "        sicdescription = driver.find_element_by_xpath(\"/html/body/div[1]/div/section[2]/div/div/div[2]/div[2]/div/div/a[1]\").text\n",
    "        sicdes.append(sicdescription)\n",
    "\n",
    "        naicscode = driver.find_element_by_xpath(\"/html/body/div[1]/div/section[2]/div/div/div[2]/div[2]/div/div/a[2]/span\").text\n",
    "        ncode.append(naicscode)\n",
    "\n",
    "\n",
    "        naicsdescription = driver.find_element_by_xpath(\"/html/body/div[1]/div/section[2]/div/div/div[2]/div[2]/div/div/a[2]\").text\n",
    "        naicsdes.append(naicsdescription)\n",
    "\n",
    "        city = driver.find_element_by_xpath(\"/html/body/div[1]/div/section[2]/div/div/div[3]/div[2]/div[1]/span[2]\").text\n",
    "        city_list.append(city)\n",
    "\n",
    "        state = driver.find_element_by_xpath(\"/html/body/div[1]/div/section[2]/div/div/div[3]/div[2]/div[3]/span[2]\").text\n",
    "        state_list.append(state)\n",
    "\n",
    "        zipcode = driver.find_element_by_xpath(\"/html/body/div[1]/div/section[2]/div/div/div[3]/div[2]/div[5]/span[2]\").text\n",
    "        zipcode_list.append(zipcode)\n",
    "\n",
    "        revenue = driver.find_element_by_xpath(\"/html/body/div[1]/div/section[2]/div/div/div[3]/div[3]/div[1]/span[2]\").text\n",
    "        rev.append(revenue)\n",
    "\n",
    "        CompanySize = driver.find_element_by_xpath(\"/html/body/div[1]/div/section[2]/div/div/div[3]/div[3]/div[3]/span[2]\").text\n",
    "        CompSize.append(CompanySize)\n",
    "        \n",
    "       \n",
    "\n",
    "  \n",
    "        \n",
    "    except:\n",
    "        print(\"not loading\")\n",
    "        continue\n",
    "\n",
    "    \n"
   ]
  },
  {
   "cell_type": "markdown",
   "id": "7c01c3b9",
   "metadata": {},
   "source": [
    "## Data cleaning\n",
    "category - Upper case for each word <br>\n",
    "SICCode - extracted only code( number)<br>\n",
    "SICDescription - spliting and removing SIC Code<br>\n",
    "NAICS Code - extracted only code( number)<br>\n",
    "NAICSDescription - spliting and removing NAICS Code<br>\n",
    "Revenue - Replacing Medium with '$' symbols<br>\n",
    "CompanySize - Space trimming<br>\n",
    "\n"
   ]
  },
  {
   "cell_type": "code",
   "execution_count": 7,
   "id": "508722ab",
   "metadata": {
    "scrolled": true
   },
   "outputs": [
    {
     "name": "stdout",
     "output_type": "stream",
     "text": [
      "['Top Company', 'Top Company', 'Top Company', 'Top Company', 'Top Company', 'Top Company', 'Top Company', 'Top Company', 'Top Company', 'Top Company', 'Top Company', 'Top Company', 'Top Company', 'Top Company', 'Top Company', 'Top Company', 'Top Company', 'Top Company', 'Top Company', 'Top Company', 'Top Company', 'Top Company', 'Top Company', 'Top Company', 'Top Company', 'Top Company', 'Top Company', 'Top Company', 'Top Company', 'Top Company', 'Top Company', 'Top Company', 'Top Company', 'Top Company', 'Top Company', 'Top Company', 'Top Company', 'Top Company', 'Top Company', 'Top Company', 'Top Company', 'Top Company', 'Top Company', 'Top Company', 'Top Company', 'Top Company', 'Top Company', 'Top Company', 'Top Company', 'Top Company', 'Top Company', 'Top Company', 'Top Company', 'Top Company', 'Top Company', 'Top Company', 'Top Company', 'Top Company', 'Top Company', 'Top Company', 'Top Company', 'Top Company', 'Top Company', 'Top Company', 'Top Company', 'Top Company', 'Top Company', 'Top Company', 'Top Company', 'Top Company', 'Top Company', 'Top Company', 'Top Company', 'Top Company', 'Top Company', 'Top Company', 'Top Company', 'Top Company', 'Top Company', 'Top Company', 'Top Company', 'Top Company', 'Top Company', 'Top Company', 'Top Company', 'Top Company', 'Top Company', 'Top Company', 'Top Company', 'Top Company', 'Top Company', 'Top Company', 'Top Company', 'Top Company', 'Top Company', 'Top Company', 'Top Company', 'Top Company', 'Top Company', 'Top Company']\n"
     ]
    }
   ],
   "source": [
    "import string\n",
    "category=[]\n",
    "for c in cat:\n",
    "    c=string.capwords(c)\n",
    "    #c=c.capitalize()\n",
    "    category.append(c)\n",
    "print(category)"
   ]
  },
  {
   "cell_type": "code",
   "execution_count": 8,
   "id": "aa7263de",
   "metadata": {},
   "outputs": [
    {
     "name": "stdout",
     "output_type": "stream",
     "text": [
      "['3612', '3612', '3612', '3612', '3612', '3612', '3612', '3612', '3612', '3612', '3612', '3612', '3612', '3612', '3612', '3612', '3612', '3612', '3612', '3612', '3612', '3612', '3612', '3612', '3612', '3612', '3612', '3612', '3612', '3612', '3612', '3612', '3612', '3612', '3612', '3612', '3612', '3612', '3612', '3612', '3612', '3612', '3612', '3612', '3612', '3612', '3612', '3612', '3612', '3612', '3612', '3612', '3612', '3612', '3612', '3612', '3612', '3612', '3612', '3612', '3612', '3612', '3612', '3612', '3612', '3612', '3612', '3612', '3612', '3612', '3612', '3612', '3612', '3612', '3612', '3612', '3612', '3612', '3612', '3612', '3612', '3612', '3612', '3612', '3612', '3612', '3612', '3612', '3612', '3612', '3612', '3612', '3612', '3612', '3612', '3612', '3612', '3612', '3612', '3612']\n"
     ]
    }
   ],
   "source": [
    "SICCode=[]\n",
    "for s in sicdes:\n",
    "    sc=s.split(\" \")[2]\n",
    "    SICCode.append(sc)\n",
    "print(SICCode)"
   ]
  },
  {
   "cell_type": "code",
   "execution_count": 9,
   "id": "cd31fe19",
   "metadata": {},
   "outputs": [
    {
     "name": "stdout",
     "output_type": "stream",
     "text": [
      "['Power, Distribution, and Specialty Transformers', 'Power, Distribution, and Specialty Transformers', 'Power, Distribution, and Specialty Transformers', 'Power, Distribution, and Specialty Transformers', 'Power, Distribution, and Specialty Transformers', 'Power, Distribution, and Specialty Transformers', 'Power, Distribution, and Specialty Transformers', 'Power, Distribution, and Specialty Transformers', 'Power, Distribution, and Specialty Transformers', 'Power, Distribution, and Specialty Transformers', 'Power, Distribution, and Specialty Transformers', 'Power, Distribution, and Specialty Transformers', 'Power, Distribution, and Specialty Transformers', 'Power, Distribution, and Specialty Transformers', 'Power, Distribution, and Specialty Transformers', 'Power, Distribution, and Specialty Transformers', 'Power, Distribution, and Specialty Transformers', 'Power, Distribution, and Specialty Transformers', 'Power, Distribution, and Specialty Transformers', 'Power, Distribution, and Specialty Transformers', 'Power, Distribution, and Specialty Transformers', 'Power, Distribution, and Specialty Transformers', 'Power, Distribution, and Specialty Transformers', 'Power, Distribution, and Specialty Transformers', 'Power, Distribution, and Specialty Transformers', 'Power, Distribution, and Specialty Transformers', 'Power, Distribution, and Specialty Transformers', 'Power, Distribution, and Specialty Transformers', 'Power, Distribution, and Specialty Transformers', 'Power, Distribution, and Specialty Transformers', 'Power, Distribution, and Specialty Transformers', 'Power, Distribution, and Specialty Transformers', 'Power, Distribution, and Specialty Transformers', 'Power, Distribution, and Specialty Transformers', 'Power, Distribution, and Specialty Transformers', 'Power, Distribution, and Specialty Transformers', 'Power, Distribution, and Specialty Transformers', 'Power, Distribution, and Specialty Transformers', 'Power, Distribution, and Specialty Transformers', 'Power, Distribution, and Specialty Transformers', 'Power, Distribution, and Specialty Transformers', 'Power, Distribution, and Specialty Transformers', 'Power, Distribution, and Specialty Transformers', 'Power, Distribution, and Specialty Transformers', 'Power, Distribution, and Specialty Transformers', 'Power, Distribution, and Specialty Transformers', 'Power, Distribution, and Specialty Transformers', 'Power, Distribution, and Specialty Transformers', 'Power, Distribution, and Specialty Transformers', 'Power, Distribution, and Specialty Transformers', 'Power, Distribution, and Specialty Transformers', 'Power, Distribution, and Specialty Transformers', 'Power, Distribution, and Specialty Transformers', 'Power, Distribution, and Specialty Transformers', 'Power, Distribution, and Specialty Transformers', 'Power, Distribution, and Specialty Transformers', 'Power, Distribution, and Specialty Transformers', 'Power, Distribution, and Specialty Transformers', 'Power, Distribution, and Specialty Transformers', 'Power, Distribution, and Specialty Transformers', 'Power, Distribution, and Specialty Transformers', 'Power, Distribution, and Specialty Transformers', 'Power, Distribution, and Specialty Transformers', 'Power, Distribution, and Specialty Transformers', 'Power, Distribution, and Specialty Transformers', 'Power, Distribution, and Specialty Transformers', 'Power, Distribution, and Specialty Transformers', 'Power, Distribution, and Specialty Transformers', 'Power, Distribution, and Specialty Transformers', 'Power, Distribution, and Specialty Transformers', 'Power, Distribution, and Specialty Transformers', 'Power, Distribution, and Specialty Transformers', 'Power, Distribution, and Specialty Transformers', 'Power, Distribution, and Specialty Transformers', 'Power, Distribution, and Specialty Transformers', 'Power, Distribution, and Specialty Transformers', 'Power, Distribution, and Specialty Transformers', 'Power, Distribution, and Specialty Transformers', 'Power, Distribution, and Specialty Transformers', 'Power, Distribution, and Specialty Transformers', 'Power, Distribution, and Specialty Transformers', 'Power, Distribution, and Specialty Transformers', 'Power, Distribution, and Specialty Transformers', 'Power, Distribution, and Specialty Transformers', 'Power, Distribution, and Specialty Transformers', 'Power, Distribution, and Specialty Transformers', 'Power, Distribution, and Specialty Transformers', 'Power, Distribution, and Specialty Transformers', 'Power, Distribution, and Specialty Transformers', 'Power, Distribution, and Specialty Transformers', 'Power, Distribution, and Specialty Transformers', 'Power, Distribution, and Specialty Transformers', 'Power, Distribution, and Specialty Transformers', 'Power, Distribution, and Specialty Transformers', 'Power, Distribution, and Specialty Transformers', 'Power, Distribution, and Specialty Transformers', 'Power, Distribution, and Specialty Transformers', 'Power, Distribution, and Specialty Transformers', 'Power, Distribution, and Specialty Transformers', 'Power, Distribution, and Specialty Transformers']\n"
     ]
    }
   ],
   "source": [
    "SICDescription=[]\n",
    "for s in sicdes:\n",
    "    sd=s.split(\"- \")[1]\n",
    "    SICDescription.append(sd)\n",
    "print(SICDescription)"
   ]
  },
  {
   "cell_type": "code",
   "execution_count": 11,
   "id": "8bd827de",
   "metadata": {},
   "outputs": [
    {
     "name": "stdout",
     "output_type": "stream",
     "text": [
      "['335311', '335311', '335311', '335311', '335311', '335311', '335311', '335311', '335311', '335311', '335311', '335311', '335311', '335311', '335311', '335311', '335311', '335311', '335311', '335311', '335311', '335311', '335311', '335311', '335311', '335311', '335311', '335311', '335311', '335311', '335311', '335311', '335311', '335311', '335311', '335311', '335311', '335311', '335311', '335311', '335311', '335311', '335311', '335311', '335311', '335311', '335311', '335311', '335311', '335311', '335311', '335311', '335311', '335311', '335311', '335311', '335311', '335311', '335311', '335311', '335311', '335311', '335311', '335311', '335311', '335311', '335311', '335311', '335311', '335311', '335311', '335311', '335311', '335311', '335311', '335311', '335311', '335311', '335311', '335311', '335311', '335311', '335311', '335311', '335311', '335311', '335311', '335311', '335311', '335311', '335311', '335311', '335311', '335311', '335311', '335311', '335311', '335311', '335311', '335311']\n"
     ]
    }
   ],
   "source": [
    "NAICSCode=[]\n",
    "for n in ncode:\n",
    "    nc=n.split(\" \")[2]\n",
    "    NAICSCode.append(nc)\n",
    "print(NAICSCode)"
   ]
  },
  {
   "cell_type": "code",
   "execution_count": 14,
   "id": "d14e7116",
   "metadata": {},
   "outputs": [
    {
     "name": "stdout",
     "output_type": "stream",
     "text": [
      "['Power, Distribution, and Specialty Transformer Manufacturing', 'Power, Distribution, and Specialty Transformer Manufacturing', 'Power, Distribution, and Specialty Transformer Manufacturing', 'Power, Distribution, and Specialty Transformer Manufacturing', 'Power, Distribution, and Specialty Transformer Manufacturing', 'Power, Distribution, and Specialty Transformer Manufacturing', 'Power, Distribution, and Specialty Transformer Manufacturing', 'Power, Distribution, and Specialty Transformer Manufacturing', 'Power, Distribution, and Specialty Transformer Manufacturing', 'Power, Distribution, and Specialty Transformer Manufacturing', 'Power, Distribution, and Specialty Transformer Manufacturing', 'Power, Distribution, and Specialty Transformer Manufacturing', 'Power, Distribution, and Specialty Transformer Manufacturing', 'Power, Distribution, and Specialty Transformer Manufacturing', 'Power, Distribution, and Specialty Transformer Manufacturing', 'Power, Distribution, and Specialty Transformer Manufacturing', 'Power, Distribution, and Specialty Transformer Manufacturing', 'Power, Distribution, and Specialty Transformer Manufacturing', 'Power, Distribution, and Specialty Transformer Manufacturing', 'Power, Distribution, and Specialty Transformer Manufacturing', 'Power, Distribution, and Specialty Transformer Manufacturing', 'Power, Distribution, and Specialty Transformer Manufacturing', 'Power, Distribution, and Specialty Transformer Manufacturing', 'Power, Distribution, and Specialty Transformer Manufacturing', 'Power, Distribution, and Specialty Transformer Manufacturing', 'Power, Distribution, and Specialty Transformer Manufacturing', 'Power, Distribution, and Specialty Transformer Manufacturing', 'Power, Distribution, and Specialty Transformer Manufacturing', 'Power, Distribution, and Specialty Transformer Manufacturing', 'Power, Distribution, and Specialty Transformer Manufacturing', 'Power, Distribution, and Specialty Transformer Manufacturing', 'Power, Distribution, and Specialty Transformer Manufacturing', 'Power, Distribution, and Specialty Transformer Manufacturing', 'Power, Distribution, and Specialty Transformer Manufacturing', 'Power, Distribution, and Specialty Transformer Manufacturing', 'Power, Distribution, and Specialty Transformer Manufacturing', 'Power, Distribution, and Specialty Transformer Manufacturing', 'Power, Distribution, and Specialty Transformer Manufacturing', 'Power, Distribution, and Specialty Transformer Manufacturing', 'Power, Distribution, and Specialty Transformer Manufacturing', 'Power, Distribution, and Specialty Transformer Manufacturing', 'Power, Distribution, and Specialty Transformer Manufacturing', 'Power, Distribution, and Specialty Transformer Manufacturing', 'Power, Distribution, and Specialty Transformer Manufacturing', 'Power, Distribution, and Specialty Transformer Manufacturing', 'Power, Distribution, and Specialty Transformer Manufacturing', 'Power, Distribution, and Specialty Transformer Manufacturing', 'Power, Distribution, and Specialty Transformer Manufacturing', 'Power, Distribution, and Specialty Transformer Manufacturing', 'Power, Distribution, and Specialty Transformer Manufacturing', 'Power, Distribution, and Specialty Transformer Manufacturing', 'Power, Distribution, and Specialty Transformer Manufacturing', 'Power, Distribution, and Specialty Transformer Manufacturing', 'Power, Distribution, and Specialty Transformer Manufacturing', 'Power, Distribution, and Specialty Transformer Manufacturing', 'Power, Distribution, and Specialty Transformer Manufacturing', 'Power, Distribution, and Specialty Transformer Manufacturing', 'Power, Distribution, and Specialty Transformer Manufacturing', 'Power, Distribution, and Specialty Transformer Manufacturing', 'Power, Distribution, and Specialty Transformer Manufacturing', 'Power, Distribution, and Specialty Transformer Manufacturing', 'Power, Distribution, and Specialty Transformer Manufacturing', 'Power, Distribution, and Specialty Transformer Manufacturing', 'Power, Distribution, and Specialty Transformer Manufacturing', 'Power, Distribution, and Specialty Transformer Manufacturing', 'Power, Distribution, and Specialty Transformer Manufacturing', 'Power, Distribution, and Specialty Transformer Manufacturing', 'Power, Distribution, and Specialty Transformer Manufacturing', 'Power, Distribution, and Specialty Transformer Manufacturing', 'Power, Distribution, and Specialty Transformer Manufacturing', 'Power, Distribution, and Specialty Transformer Manufacturing', 'Power, Distribution, and Specialty Transformer Manufacturing', 'Power, Distribution, and Specialty Transformer Manufacturing', 'Power, Distribution, and Specialty Transformer Manufacturing', 'Power, Distribution, and Specialty Transformer Manufacturing', 'Power, Distribution, and Specialty Transformer Manufacturing', 'Power, Distribution, and Specialty Transformer Manufacturing', 'Power, Distribution, and Specialty Transformer Manufacturing', 'Power, Distribution, and Specialty Transformer Manufacturing', 'Power, Distribution, and Specialty Transformer Manufacturing', 'Power, Distribution, and Specialty Transformer Manufacturing', 'Power, Distribution, and Specialty Transformer Manufacturing', 'Power, Distribution, and Specialty Transformer Manufacturing', 'Power, Distribution, and Specialty Transformer Manufacturing', 'Power, Distribution, and Specialty Transformer Manufacturing', 'Power, Distribution, and Specialty Transformer Manufacturing', 'Power, Distribution, and Specialty Transformer Manufacturing', 'Power, Distribution, and Specialty Transformer Manufacturing', 'Power, Distribution, and Specialty Transformer Manufacturing', 'Power, Distribution, and Specialty Transformer Manufacturing', 'Power, Distribution, and Specialty Transformer Manufacturing', 'Power, Distribution, and Specialty Transformer Manufacturing', 'Power, Distribution, and Specialty Transformer Manufacturing', 'Power, Distribution, and Specialty Transformer Manufacturing', 'Power, Distribution, and Specialty Transformer Manufacturing', 'Power, Distribution, and Specialty Transformer Manufacturing', 'Power, Distribution, and Specialty Transformer Manufacturing', 'Power, Distribution, and Specialty Transformer Manufacturing', 'Power, Distribution, and Specialty Transformer Manufacturing', 'Power, Distribution, and Specialty Transformer Manufacturing']\n"
     ]
    }
   ],
   "source": [
    "NAICSDescription=[]\n",
    "for n in naicsdes:\n",
    "    nd=n.split(\"- \")[1]\n",
    "    NAICSDescription.append(nd)\n",
    "print(NAICSDescription)"
   ]
  },
  {
   "cell_type": "code",
   "execution_count": 17,
   "id": "961ed1a9",
   "metadata": {},
   "outputs": [
    {
     "name": "stdout",
     "output_type": "stream",
     "text": [
      "['$$', '$$', '$$', '$$', '$$', '$$', '$$', '$$', '$$', '$$', '$$', '$$', '$$', '$$', '$$', '$$', '$$', '$$', '$$', '$$', '$$', '$$', '$$', '$$', '$$', '$$', '$$', '$$', '$$', '$$', '$$', '$$', '$$', '$$', '$$', '$$', '$$', '$$', '$$', '$$', '$$', '$$', '$$', '$$', '$$', '$$', '$$', '$$', '$$', '$$', '$$', '$$', '$$', '$$', '$$', '$$', '$$', '$$', '$$', '$$', '$$', '$$', '$$', '$$', '$$', '$$', '$$', '$$', '$$', '$$', '$$', '$$', '$$', '$$', '$$', '$$', '$$', '$$', '$$', '$$', '$$', '$$', '$$', '$$', '$$', '$$', '$$', '$$', '$$', '$$', '$$', '$$', '$$', '$$', '$$', '$$', '$$', '$$', '$$', '$$']\n"
     ]
    }
   ],
   "source": [
    "Revenue=[]\n",
    "for r in rev:\n",
    "    x = r.replace(\"  Medium\", \"$$\")\n",
    "    Revenue.append(x)\n",
    "print(Revenue)"
   ]
  },
  {
   "cell_type": "code",
   "execution_count": 19,
   "id": "39f08aaa",
   "metadata": {},
   "outputs": [
    {
     "name": "stdout",
     "output_type": "stream",
     "text": [
      "['Medium', 'Medium', 'Large', 'Large', 'Medium', 'Medium', 'Medium', 'Medium', 'Medium', 'Medium', 'Medium', 'Medium', 'Medium', 'Medium', 'Medium', 'Medium', 'Medium', 'Medium', 'Medium', 'Medium', 'Medium', 'Medium', 'Medium', 'Medium', 'Medium', 'Medium', 'Medium', 'Medium', 'Medium', 'Medium', 'Medium', 'Medium', 'Medium', 'Medium', 'Medium', 'Medium', 'Medium', 'Medium', 'Medium', 'Medium', 'Medium', 'Medium', 'Medium', 'Medium', 'Medium', 'Medium', 'Medium', 'Medium', 'Medium', 'Medium', 'Medium', 'Medium', 'Medium', 'Medium', 'Medium', 'Medium', 'Medium', 'Medium', 'Medium', 'Medium', 'Medium', 'Medium', 'Medium', 'Medium', 'Medium', 'Medium', 'Medium', 'Medium', 'Medium', 'Medium', 'Medium', 'Medium', 'Medium', 'Medium', 'Medium', 'Medium', 'Medium', 'Medium', 'Medium', 'Medium', 'Medium', 'Medium', 'Medium', 'Medium', 'Medium', 'Medium', 'Medium', 'Medium', 'Medium', 'Medium', 'Medium', 'Medium', 'Medium', 'Medium', 'Medium', 'Medium', 'Medium', 'Medium', 'Medium', 'Medium']\n"
     ]
    }
   ],
   "source": [
    "CompanySize=[]\n",
    "for c in CompSize:\n",
    "    c=c.strip()\n",
    "    CompanySize.append(c)\n",
    "print(CompanySize)"
   ]
  },
  {
   "cell_type": "markdown",
   "id": "3a36d47d",
   "metadata": {},
   "source": [
    "## Exporting Data set\n",
    "\n",
    "### Dataset  contain only 100 rows\n",
    "\n",
    "### File Formate : CSV\n"
   ]
  },
  {
   "cell_type": "markdown",
   "id": "cd004afc",
   "metadata": {},
   "source": [
    "Headers Used\n",
    "BName,category, SICCode, SICDescription, NAICSCode, NAICSDescription, city_list, state_list, zipcode_list, Revenue, CompanySize\n",
    "Pands is used to export data"
   ]
  },
  {
   "cell_type": "code",
   "execution_count": 20,
   "id": "8e9f2d83",
   "metadata": {},
   "outputs": [],
   "source": [
    "data_tuples = list(zip(BName,category, SICCode,\n",
    "                       SICDescription, NAICSCode, NAICSDescription, \n",
    "                       city_list, state_list, zipcode_list, Revenue, CompanySize))\n"
   ]
  },
  {
   "cell_type": "markdown",
   "id": "3df4c4a3",
   "metadata": {},
   "source": [
    "### Renaming Headers \n",
    "Business Name, Category, SIC Code, SIC description, NAICS Code, NAICS description, City, State, Zip Code, \n",
    "Est. Annual Revenue, Est. Company Size"
   ]
  },
  {
   "cell_type": "code",
   "execution_count": 21,
   "id": "d83a30a0",
   "metadata": {},
   "outputs": [],
   "source": [
    "fin_df=pd.DataFrame(data_tuples, columns=[\"Business Name\",\"Category\",\"SIC Code\",\"SIC description\",\n",
    "                                          \"NAICS Code\",\"NAICS description\",\"City\",\"State\",\"Zip Code\",\n",
    "                                          \"Est. Annual Revenue\",\"Est. Company Size\"])\n"
   ]
  },
  {
   "cell_type": "code",
   "execution_count": 22,
   "id": "95222c97",
   "metadata": {
    "scrolled": false
   },
   "outputs": [
    {
     "data": {
      "text/html": [
       "<div>\n",
       "<style scoped>\n",
       "    .dataframe tbody tr th:only-of-type {\n",
       "        vertical-align: middle;\n",
       "    }\n",
       "\n",
       "    .dataframe tbody tr th {\n",
       "        vertical-align: top;\n",
       "    }\n",
       "\n",
       "    .dataframe thead th {\n",
       "        text-align: right;\n",
       "    }\n",
       "</style>\n",
       "<table border=\"1\" class=\"dataframe\">\n",
       "  <thead>\n",
       "    <tr style=\"text-align: right;\">\n",
       "      <th></th>\n",
       "      <th>Business Name</th>\n",
       "      <th>Category</th>\n",
       "      <th>SIC Code</th>\n",
       "      <th>SIC description</th>\n",
       "      <th>NAICS Code</th>\n",
       "      <th>NAICS description</th>\n",
       "      <th>City</th>\n",
       "      <th>State</th>\n",
       "      <th>Zip Code</th>\n",
       "      <th>Est. Annual Revenue</th>\n",
       "      <th>Est. Company Size</th>\n",
       "    </tr>\n",
       "  </thead>\n",
       "  <tbody>\n",
       "    <tr>\n",
       "      <th>0</th>\n",
       "      <td>Holien Inc</td>\n",
       "      <td>Top Company</td>\n",
       "      <td>3612</td>\n",
       "      <td>Power, Distribution, and Specialty Transformers</td>\n",
       "      <td>335311</td>\n",
       "      <td>Power, Distribution, and Specialty Transformer...</td>\n",
       "      <td>Watertown</td>\n",
       "      <td>SD</td>\n",
       "      <td>57201</td>\n",
       "      <td>$$</td>\n",
       "      <td>Medium</td>\n",
       "    </tr>\n",
       "    <tr>\n",
       "      <th>1</th>\n",
       "      <td>Schaffner Mtc Transformers</td>\n",
       "      <td>Top Company</td>\n",
       "      <td>3612</td>\n",
       "      <td>Power, Distribution, and Specialty Transformers</td>\n",
       "      <td>335311</td>\n",
       "      <td>Power, Distribution, and Specialty Transformer...</td>\n",
       "      <td>Wytheville</td>\n",
       "      <td>VA</td>\n",
       "      <td>24382</td>\n",
       "      <td>$$</td>\n",
       "      <td>Medium</td>\n",
       "    </tr>\n",
       "    <tr>\n",
       "      <th>2</th>\n",
       "      <td>Fairfield Manufacturing Co Inc</td>\n",
       "      <td>Top Company</td>\n",
       "      <td>3612</td>\n",
       "      <td>Power, Distribution, and Specialty Transformers</td>\n",
       "      <td>335311</td>\n",
       "      <td>Power, Distribution, and Specialty Transformer...</td>\n",
       "      <td>Lafayette</td>\n",
       "      <td>IN</td>\n",
       "      <td>47905</td>\n",
       "      <td>$$</td>\n",
       "      <td>Large</td>\n",
       "    </tr>\n",
       "    <tr>\n",
       "      <th>3</th>\n",
       "      <td>GE Grid Solutions, LLC</td>\n",
       "      <td>Top Company</td>\n",
       "      <td>3612</td>\n",
       "      <td>Power, Distribution, and Specialty Transformers</td>\n",
       "      <td>335311</td>\n",
       "      <td>Power, Distribution, and Specialty Transformer...</td>\n",
       "      <td>Atlanta</td>\n",
       "      <td>GA</td>\n",
       "      <td>30339</td>\n",
       "      <td>$$</td>\n",
       "      <td>Large</td>\n",
       "    </tr>\n",
       "    <tr>\n",
       "      <th>4</th>\n",
       "      <td>ABB</td>\n",
       "      <td>Top Company</td>\n",
       "      <td>3612</td>\n",
       "      <td>Power, Distribution, and Specialty Transformers</td>\n",
       "      <td>335311</td>\n",
       "      <td>Power, Distribution, and Specialty Transformer...</td>\n",
       "      <td>Bland</td>\n",
       "      <td>VA</td>\n",
       "      <td>24315</td>\n",
       "      <td>$$</td>\n",
       "      <td>Medium</td>\n",
       "    </tr>\n",
       "    <tr>\n",
       "      <th>...</th>\n",
       "      <td>...</td>\n",
       "      <td>...</td>\n",
       "      <td>...</td>\n",
       "      <td>...</td>\n",
       "      <td>...</td>\n",
       "      <td>...</td>\n",
       "      <td>...</td>\n",
       "      <td>...</td>\n",
       "      <td>...</td>\n",
       "      <td>...</td>\n",
       "      <td>...</td>\n",
       "    </tr>\n",
       "    <tr>\n",
       "      <th>95</th>\n",
       "      <td>Shape, LLC</td>\n",
       "      <td>Top Company</td>\n",
       "      <td>3612</td>\n",
       "      <td>Power, Distribution, and Specialty Transformers</td>\n",
       "      <td>335311</td>\n",
       "      <td>Power, Distribution, and Specialty Transformer...</td>\n",
       "      <td>Longmont</td>\n",
       "      <td>CO</td>\n",
       "      <td>80504</td>\n",
       "      <td>$$</td>\n",
       "      <td>Medium</td>\n",
       "    </tr>\n",
       "    <tr>\n",
       "      <th>96</th>\n",
       "      <td>Magna Wealth Solutions, LLC</td>\n",
       "      <td>Top Company</td>\n",
       "      <td>3612</td>\n",
       "      <td>Power, Distribution, and Specialty Transformers</td>\n",
       "      <td>335311</td>\n",
       "      <td>Power, Distribution, and Specialty Transformer...</td>\n",
       "      <td>Arcata</td>\n",
       "      <td>CA</td>\n",
       "      <td>95521</td>\n",
       "      <td>$$</td>\n",
       "      <td>Medium</td>\n",
       "    </tr>\n",
       "    <tr>\n",
       "      <th>97</th>\n",
       "      <td>Avancez, LLC</td>\n",
       "      <td>Top Company</td>\n",
       "      <td>3612</td>\n",
       "      <td>Power, Distribution, and Specialty Transformers</td>\n",
       "      <td>335311</td>\n",
       "      <td>Power, Distribution, and Specialty Transformer...</td>\n",
       "      <td>Highland Park</td>\n",
       "      <td>MI</td>\n",
       "      <td>48203</td>\n",
       "      <td>$$</td>\n",
       "      <td>Medium</td>\n",
       "    </tr>\n",
       "    <tr>\n",
       "      <th>98</th>\n",
       "      <td>Mpt Drives</td>\n",
       "      <td>Top Company</td>\n",
       "      <td>3612</td>\n",
       "      <td>Power, Distribution, and Specialty Transformers</td>\n",
       "      <td>335311</td>\n",
       "      <td>Power, Distribution, and Specialty Transformer...</td>\n",
       "      <td>Madison Heights</td>\n",
       "      <td>MI</td>\n",
       "      <td>48071</td>\n",
       "      <td>$$</td>\n",
       "      <td>Medium</td>\n",
       "    </tr>\n",
       "    <tr>\n",
       "      <th>99</th>\n",
       "      <td>Aprotech Inc</td>\n",
       "      <td>Top Company</td>\n",
       "      <td>3612</td>\n",
       "      <td>Power, Distribution, and Specialty Transformers</td>\n",
       "      <td>335311</td>\n",
       "      <td>Power, Distribution, and Specialty Transformer...</td>\n",
       "      <td>Birmingham</td>\n",
       "      <td>MI</td>\n",
       "      <td>48009</td>\n",
       "      <td>$$</td>\n",
       "      <td>Medium</td>\n",
       "    </tr>\n",
       "  </tbody>\n",
       "</table>\n",
       "<p>100 rows × 11 columns</p>\n",
       "</div>"
      ],
      "text/plain": [
       "                     Business Name     Category SIC Code  \\\n",
       "0                       Holien Inc  Top Company     3612   \n",
       "1       Schaffner Mtc Transformers  Top Company     3612   \n",
       "2   Fairfield Manufacturing Co Inc  Top Company     3612   \n",
       "3           GE Grid Solutions, LLC  Top Company     3612   \n",
       "4                              ABB  Top Company     3612   \n",
       "..                             ...          ...      ...   \n",
       "95                      Shape, LLC  Top Company     3612   \n",
       "96     Magna Wealth Solutions, LLC  Top Company     3612   \n",
       "97                    Avancez, LLC  Top Company     3612   \n",
       "98                      Mpt Drives  Top Company     3612   \n",
       "99                    Aprotech Inc  Top Company     3612   \n",
       "\n",
       "                                    SIC description NAICS Code  \\\n",
       "0   Power, Distribution, and Specialty Transformers     335311   \n",
       "1   Power, Distribution, and Specialty Transformers     335311   \n",
       "2   Power, Distribution, and Specialty Transformers     335311   \n",
       "3   Power, Distribution, and Specialty Transformers     335311   \n",
       "4   Power, Distribution, and Specialty Transformers     335311   \n",
       "..                                              ...        ...   \n",
       "95  Power, Distribution, and Specialty Transformers     335311   \n",
       "96  Power, Distribution, and Specialty Transformers     335311   \n",
       "97  Power, Distribution, and Specialty Transformers     335311   \n",
       "98  Power, Distribution, and Specialty Transformers     335311   \n",
       "99  Power, Distribution, and Specialty Transformers     335311   \n",
       "\n",
       "                                    NAICS description             City State  \\\n",
       "0   Power, Distribution, and Specialty Transformer...        Watertown    SD   \n",
       "1   Power, Distribution, and Specialty Transformer...       Wytheville    VA   \n",
       "2   Power, Distribution, and Specialty Transformer...        Lafayette    IN   \n",
       "3   Power, Distribution, and Specialty Transformer...          Atlanta    GA   \n",
       "4   Power, Distribution, and Specialty Transformer...            Bland    VA   \n",
       "..                                                ...              ...   ...   \n",
       "95  Power, Distribution, and Specialty Transformer...         Longmont    CO   \n",
       "96  Power, Distribution, and Specialty Transformer...           Arcata    CA   \n",
       "97  Power, Distribution, and Specialty Transformer...    Highland Park    MI   \n",
       "98  Power, Distribution, and Specialty Transformer...  Madison Heights    MI   \n",
       "99  Power, Distribution, and Specialty Transformer...       Birmingham    MI   \n",
       "\n",
       "   Zip Code Est. Annual Revenue Est. Company Size  \n",
       "0     57201                  $$            Medium  \n",
       "1     24382                  $$            Medium  \n",
       "2     47905                  $$             Large  \n",
       "3     30339                  $$             Large  \n",
       "4     24315                  $$            Medium  \n",
       "..      ...                 ...               ...  \n",
       "95    80504                  $$            Medium  \n",
       "96    95521                  $$            Medium  \n",
       "97    48203                  $$            Medium  \n",
       "98    48071                  $$            Medium  \n",
       "99    48009                  $$            Medium  \n",
       "\n",
       "[100 rows x 11 columns]"
      ]
     },
     "execution_count": 22,
     "metadata": {},
     "output_type": "execute_result"
    }
   ],
   "source": [
    "fin_df"
   ]
  },
  {
   "cell_type": "code",
   "execution_count": 27,
   "id": "5bed3954",
   "metadata": {},
   "outputs": [],
   "source": [
    "fin_df.to_csv(\"Final_Dataset.csv\", index=False)"
   ]
  },
  {
   "cell_type": "code",
   "execution_count": null,
   "id": "5c73c841",
   "metadata": {},
   "outputs": [],
   "source": []
  }
 ],
 "metadata": {
  "kernelspec": {
   "display_name": "Python 3",
   "language": "python",
   "name": "python3"
  },
  "language_info": {
   "codemirror_mode": {
    "name": "ipython",
    "version": 3
   },
   "file_extension": ".py",
   "mimetype": "text/x-python",
   "name": "python",
   "nbconvert_exporter": "python",
   "pygments_lexer": "ipython3",
   "version": "3.8.8"
  }
 },
 "nbformat": 4,
 "nbformat_minor": 5
}
